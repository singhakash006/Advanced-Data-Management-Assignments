{
 "cells": [
  {
   "cell_type": "code",
   "execution_count": 1,
   "id": "32d6bfbd",
   "metadata": {},
   "outputs": [
    {
     "name": "stdout",
     "output_type": "stream",
     "text": [
      "Analytical Skill\n",
      "Step 1: Understand the Problem: \n",
      "Customer Segmentation means dividing customers into different groups based on similarities such as spendingpatterns or demographics.\n",
      "Example: Electronics buyers vs Grocery buyers. Targeted marketing saves cost and improves sales.\n",
      "Step 2: Collect Data\n",
      "Sample data includes Customer_ID, Age, Annual_Income, Spending_Score.\n",
      "Step 3: Choose a Simple Algorithm – KMeans ClusteringKMeans groups customers automatically based on similarities.\n",
      "Step 4: Implement the Algorithm\n"
     ]
    }
   ],
   "source": [
    "print(\"Analytical Skill\")\n",
    "print(\"Step 1: Understand the Problem: \")\n",
    "print(\"Customer Segmentation means dividing customers into different groups based on similarities such as spending\\\n",
    "patterns or demographics.\")\n",
    "print(\"Example: Electronics buyers vs Grocery buyers. Targeted marketing saves cost and improves sales.\")\n",
    "print(\"\\\n",
    "Step 2: Collect Data\\n\\\n",
    "Sample data includes Customer_ID, Age, Annual_Income, Spending_Score.\\n\\\n",
    "Step 3: Choose a Simple Algorithm – KMeans Clustering\\\n",
    "KMeans groups customers automatically based on similarities.\")\n",
    "print(\"Step 4: Implement the Algorithm\")\n"
   ]
  },
  {
   "cell_type": "code",
   "execution_count": 2,
   "id": "b45774a8",
   "metadata": {},
   "outputs": [],
   "source": [
    "import pandas as pd\n",
    "from sklearn.cluster import KMeans\n",
    "import matplotlib.pyplot as plt "
   ]
  },
  {
   "cell_type": "code",
   "execution_count": 3,
   "id": "83635127",
   "metadata": {},
   "outputs": [],
   "source": [
    "data = {\n",
    "    'Customer_ID': [1, 2, 3, 4, 5, 6],\n",
    "    'Age': [25, 45, 30, 50, 23, 40],\n",
    "    'Annual_Income': [50000, 80000, 60000, 90000, 48000, 75000],\n",
    "    'Spending_Score': [60, 30, 50, 20, 65, 40]\n",
    "}\n",
    "\n",
    "df = pd.DataFrame(data)\n",
    "\n",
    "# Features for clustering\n",
    "X = df[['Annual_Income', 'Spending_Score']]\n"
   ]
  },
  {
   "cell_type": "code",
   "execution_count": null,
   "id": "c057c6c5",
   "metadata": {},
   "outputs": [
    {
     "name": "stdout",
     "output_type": "stream",
     "text": [
      "   Customer_ID  Age  Annual_Income  Spending_Score  Segment\n",
      "0            1   25          50000              60        1\n",
      "1            2   45          80000              30        0\n",
      "2            3   30          60000              50        1\n",
      "3            4   50          90000              20        0\n",
      "4            5   23          48000              65        1\n",
      "5            6   40          75000              40        0\n"
     ]
    },
    {
     "data": {
      "image/png": "[encoded data removed]",
      "text/plain": [
       "<Figure size 640x480 with 1 Axes>"
      ]
     },
     "metadata": {},
     "output_type": "display_data"
    }
   ],
   "source": [
    "# Apply KMeans\n",
    "kmeans = KMeans(n_clusters=2, random_state=0) #results are stable and relatable with random_state\n",
    "df['Segment'] = kmeans.fit_predict(X) #create 2D Array\n",
    "# Display results\n",
    "print(df)\n",
    "\n",
    "# Plot to visualize segments\n",
    "plt.scatter(df['Annual_Income'], df['Spending_Score'], c=df['Segment'], cmap='viridis')\n",
    "plt.xlabel('Annual Income')\n",
    "plt.ylabel('Spending Score')\n",
    "plt.title('Customer Segments')\n",
    "plt.show()"
   ]
  },
  {
   "cell_type": "code",
   "execution_count": 5,
   "id": "869431f2",
   "metadata": {},
   "outputs": [
    {
     "name": "stdout",
     "output_type": "stream",
     "text": [
      "Business Impact\n",
      "Targeted campaigns based on segments lead to cost savings and better sales.\n",
      "Example: Electronics discount offers for Segment 0, Grocery coupons for Segment 1.\n"
     ]
    }
   ],
   "source": [
    "print(\"Business Impact\")\n",
    "print(\"Targeted campaigns based on segments lead to cost savings and better sales.\")\n",
    "print(\"Example: Electronics discount offers for Segment 0, Grocery coupons for Segment 1.\")"
   ]
  }
 ],
 "metadata": {
  "kernelspec": {
   "display_name": "Python 3",
   "language": "python",
   "name": "python3"
  },
  "language_info": {
   "codemirror_mode": {
    "name": "ipython",
    "version": 3
   },
   "file_extension": ".py",
   "mimetype": "text/x-python",
   "name": "python",
   "nbconvert_exporter": "python",
   "pygments_lexer": "ipython3",
   "version": "3.13.6"
  }
 },
 "nbformat": 4,
 "nbformat_minor": 5
}
